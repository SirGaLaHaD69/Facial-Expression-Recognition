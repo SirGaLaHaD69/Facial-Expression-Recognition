{
  "nbformat": 4,
  "nbformat_minor": 0,
  "metadata": {
    "colab": {
      "name": "trainfer",
      "provenance": []
    },
    "kernelspec": {
      "name": "python3",
      "display_name": "Python 3"
    },
    "accelerator": "GPU"
  },
  "cells": [
    {
      "cell_type": "markdown",
      "metadata": {
        "id": "lQZY7g9RSR6z",
        "colab_type": "text"
      },
      "source": [
        "##**Importing Libraries**\n"
      ]
    },
    {
      "cell_type": "code",
      "metadata": {
        "id": "tzVsd8CAWRDw",
        "colab_type": "code",
        "colab": {}
      },
      "source": [
        "import pandas as pd\n",
        "import numpy as np\n",
        "from keras.utils import np_utils\n",
        "from matplotlib import pyplot as plt\n",
        "from keras.models import Sequential\n",
        "from keras.layers import *\n",
        "from keras.optimizers import Adam\n",
        "from keras.regularizers import l2"
      ],
      "execution_count": 6,
      "outputs": []
    },
    {
      "cell_type": "markdown",
      "metadata": {
        "id": "fnJ8AG8sWUn_",
        "colab_type": "text"
      },
      "source": [
        "###**Data Preprocessing**"
      ]
    },
    {
      "cell_type": "code",
      "metadata": {
        "id": "LbFj-nKiYkmu",
        "colab_type": "code",
        "colab": {}
      },
      "source": [
        "dataFrame = pd.read_csv('fer2013.csv')\n",
        "y_train=dataFrame.iloc[:20000,:1].values\n",
        "X=dataFrame.iloc[:20000,1:2].values\n",
        "x_train = []\n",
        "\n",
        "for i in range(20000):\n",
        "    if y_train[i][0]==1:\n",
        "        y_train[i][0]=0\n",
        "    if y_train[i][0]==4:\n",
        "        y_train[i][0]=2\n",
        "    if y_train[i][0]==5:\n",
        "        y_train[i][0]=1\n",
        "    if y_train[i][0]==6:\n",
        "        y_train[i][0]=4\n",
        "        \n",
        "y_train=np_utils.to_categorical(y_train)        \n",
        "        \n",
        "for i in range(20000):\n",
        "    pixels = np.array(X[i][0].split(\" \"),dtype='float32')\n",
        "    pixels=np.reshape(pixels,(48,48,1))\n",
        "    x_train.append(pixels)\n",
        "\n",
        "\n",
        "x_train=np.array(x_train,'float32')/255.0\n"
      ],
      "execution_count": 56,
      "outputs": []
    },
    {
      "cell_type": "markdown",
      "metadata": {
        "id": "S8Lpy1UNYtfU",
        "colab_type": "text"
      },
      "source": [
        "## **Building the Model**\n"
      ]
    },
    {
      "cell_type": "code",
      "metadata": {
        "id": "VpH2LS3tY2Wg",
        "colab_type": "code",
        "colab": {
          "base_uri": "https://localhost:8080/",
          "height": 652
        },
        "outputId": "0d793879-bcf7-4357-bda3-5480016cee76"
      },
      "source": [
        "num_features=64\n",
        "\n",
        "\n",
        "model = Sequential()\n",
        "\n",
        "model.add(Conv2D(num_features, kernel_size=(3, 3), activation='relu', input_shape=(48, 48, 1), kernel_regularizer=l2(0.01)))\n",
        "model.add(Conv2D(num_features, kernel_size=(3, 3), activation='relu'))\n",
        "model.add(BatchNormalization())\n",
        "model.add(MaxPooling2D(pool_size=(2, 2), strides=(2, 2)))\n",
        "model.add(Dropout(0.3))\n",
        "\n",
        "model.add(Conv2D(2*num_features, kernel_size=(3, 3), activation='relu'))\n",
        "model.add(BatchNormalization())\n",
        "model.add(Conv2D(2*num_features, kernel_size=(3, 3), activation='relu'))\n",
        "model.add(BatchNormalization())\n",
        "model.add(MaxPooling2D(pool_size=(2, 2), strides=(2, 2)))\n",
        "model.add(Dropout(0.3))\n",
        "\n",
        "model.add(Flatten())\n",
        "\n",
        "model.add(Dense(num_features, activation='relu'))\n",
        "model.add(Dropout(0.2))\n",
        "model.add(Dense(5, activation='softmax'))\n",
        "model.summary()"
      ],
      "execution_count": 74,
      "outputs": [
        {
          "output_type": "stream",
          "text": [
            "Model: \"sequential_6\"\n",
            "_________________________________________________________________\n",
            "Layer (type)                 Output Shape              Param #   \n",
            "=================================================================\n",
            "conv2d_25 (Conv2D)           (None, 46, 46, 64)        640       \n",
            "_________________________________________________________________\n",
            "conv2d_26 (Conv2D)           (None, 44, 44, 64)        36928     \n",
            "_________________________________________________________________\n",
            "batch_normalization_20 (Batc (None, 44, 44, 64)        256       \n",
            "_________________________________________________________________\n",
            "max_pooling2d_13 (MaxPooling (None, 22, 22, 64)        0         \n",
            "_________________________________________________________________\n",
            "dropout_21 (Dropout)         (None, 22, 22, 64)        0         \n",
            "_________________________________________________________________\n",
            "conv2d_27 (Conv2D)           (None, 20, 20, 128)       73856     \n",
            "_________________________________________________________________\n",
            "batch_normalization_21 (Batc (None, 20, 20, 128)       512       \n",
            "_________________________________________________________________\n",
            "conv2d_28 (Conv2D)           (None, 18, 18, 128)       147584    \n",
            "_________________________________________________________________\n",
            "batch_normalization_22 (Batc (None, 18, 18, 128)       512       \n",
            "_________________________________________________________________\n",
            "max_pooling2d_14 (MaxPooling (None, 9, 9, 128)         0         \n",
            "_________________________________________________________________\n",
            "dropout_22 (Dropout)         (None, 9, 9, 128)         0         \n",
            "_________________________________________________________________\n",
            "flatten_6 (Flatten)          (None, 10368)             0         \n",
            "_________________________________________________________________\n",
            "dense_14 (Dense)             (None, 64)                663616    \n",
            "_________________________________________________________________\n",
            "dropout_23 (Dropout)         (None, 64)                0         \n",
            "_________________________________________________________________\n",
            "dense_15 (Dense)             (None, 5)                 325       \n",
            "=================================================================\n",
            "Total params: 924,229\n",
            "Trainable params: 923,589\n",
            "Non-trainable params: 640\n",
            "_________________________________________________________________\n"
          ],
          "name": "stdout"
        }
      ]
    },
    {
      "cell_type": "markdown",
      "metadata": {
        "id": "9yTp5kx0ZOox",
        "colab_type": "text"
      },
      "source": [
        "### *Compling and Testing*"
      ]
    },
    {
      "cell_type": "code",
      "metadata": {
        "id": "c4fwm-b5ZWP_",
        "colab_type": "code",
        "colab": {}
      },
      "source": [
        "model.compile(loss='categorical_crossentropy',\n",
        "              optimizer=Adam(lr=0.001, beta_1=0.9, beta_2=0.999, epsilon=1e-7),\n",
        "              metrics=['accuracy'])\n",
        "hist=model.fit(x_train,y_train,shuffle=1,epochs=30,batch_size=64,validation_split=0.2,callbacks=[chkp,es])"
      ],
      "execution_count": null,
      "outputs": []
    },
    {
      "cell_type": "markdown",
      "metadata": {
        "id": "3wUSy1Mbf23p",
        "colab_type": "text"
      },
      "source": [
        "## *Saving the weights*"
      ]
    },
    {
      "cell_type": "code",
      "metadata": {
        "id": "LzMCb43if9G4",
        "colab_type": "code",
        "colab": {}
      },
      "source": [
        "model.save_weights('fer_weight.h5',overwrite=1)"
      ],
      "execution_count": 69,
      "outputs": []
    },
    {
      "cell_type": "code",
      "metadata": {
        "id": "RZe9oJJlnj_w",
        "colab_type": "code",
        "colab": {}
      },
      "source": [
        "model.load_weights('best_model.h5')"
      ],
      "execution_count": 76,
      "outputs": []
    },
    {
      "cell_type": "markdown",
      "metadata": {
        "id": "9niTSkZNEHsX",
        "colab_type": "text"
      },
      "source": [
        "## Callbacks"
      ]
    },
    {
      "cell_type": "code",
      "metadata": {
        "id": "OY1vc86_s62j",
        "colab_type": "code",
        "colab": {}
      },
      "source": [
        "from keras.callbacks import ModelCheckpoint,EarlyStopping\n",
        "es = EarlyStopping(monitor='val_acc',patience=2)\n",
        "chkp = ModelCheckpoint('best_model.h5', monitor='val_loss', verbose=1, save_best_only=True, save_weights_only=False, mode='auto', period=1)"
      ],
      "execution_count": 78,
      "outputs": []
    }
  ]
}