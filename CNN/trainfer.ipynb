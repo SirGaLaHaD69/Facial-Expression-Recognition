{
  "nbformat": 4,
  "nbformat_minor": 0,
  "metadata": {
    "colab": {
      "name": "trainfer",
      "provenance": [],
      "collapsed_sections": [],
      "toc_visible": true
    },
    "kernelspec": {
      "name": "python3",
      "display_name": "Python 3"
    },
    "accelerator": "GPU"
  },
  "cells": [
    {
      "cell_type": "markdown",
      "metadata": {
        "id": "lQZY7g9RSR6z",
        "colab_type": "text"
      },
      "source": [
        "##**Importing Libraries**\n"
      ]
    },
    {
      "cell_type": "code",
      "metadata": {
        "id": "tzVsd8CAWRDw",
        "colab_type": "code",
        "colab": {}
      },
      "source": [
        "import pandas as pd\n",
        "import numpy as np\n",
        "from keras.utils import np_utils\n",
        "from matplotlib import pyplot as plt\n",
        "from keras.models import Sequential\n",
        "from keras.layers import *\n",
        "from keras.optimizers import Adam\n",
        "from keras.regularizers import l2"
      ],
      "execution_count": 30,
      "outputs": []
    },
    {
      "cell_type": "markdown",
      "metadata": {
        "id": "fnJ8AG8sWUn_",
        "colab_type": "text"
      },
      "source": [
        "###**Data Preprocessing**"
      ]
    },
    {
      "cell_type": "code",
      "metadata": {
        "id": "0Xa3Irc_VdPE",
        "colab_type": "code",
        "colab": {
          "base_uri": "https://localhost:8080/",
          "height": 67
        },
        "outputId": "e4d45c60-5940-476a-867d-9476ed06edaa"
      },
      "source": [
        "!unzip 'fer2013'"
      ],
      "execution_count": 31,
      "outputs": [
        {
          "output_type": "stream",
          "text": [
            "Archive:  fer2013.zip\n",
            "replace fer2013.csv? [y]es, [n]o, [A]ll, [N]one, [r]ename: A\n",
            "  inflating: fer2013.csv             \n"
          ],
          "name": "stdout"
        }
      ]
    },
    {
      "cell_type": "code",
      "metadata": {
        "id": "LbFj-nKiYkmu",
        "colab_type": "code",
        "colab": {
          "base_uri": "https://localhost:8080/",
          "height": 33
        },
        "outputId": "f60f18e0-8ad9-43d9-b9b0-4fd2e6254fd5"
      },
      "source": [
        "dataFrame = pd.read_csv('fer2013.csv')\n",
        "print(dataFrame.shape)\n",
        "y_train=dataFrame.iloc[:30000,:1].values\n",
        "y_test =  dataFrame.iloc[30000:,:1].values\n",
        "X=dataFrame.iloc[:30000,1:2].values\n",
        "X_test = dataFrame.iloc[30000:,1:2].values\n",
        "x_train,x_test = [],[]\n",
        "\n",
        "for i in range(30000):\n",
        "    if y_train[i][0]==1:\n",
        "        y_train[i][0]=0\n",
        "    if y_train[i][0]==4:\n",
        "        y_train[i][0]=2\n",
        "    if y_train[i][0]==5:\n",
        "        y_train[i][0]=1\n",
        "    if y_train[i][0]==6:\n",
        "        y_train[i][0]=4\n",
        "for i in range(5887):\n",
        "    if y_test[i][0]==1:\n",
        "        y_test[i][0]=0\n",
        "    if y_test[i][0]==4:\n",
        "        y_test[i][0]=2\n",
        "    if y_test[i][0]==5:\n",
        "        y_test[i][0]=1\n",
        "    if y_test[i][0]==6:\n",
        "        y_test[i][0]=4\n",
        "        \n",
        "y_train=np_utils.to_categorical(y_train)        \n",
        "y_test=np_utils.to_categorical(y_test)        \n",
        "for i in range(30000):\n",
        "    pixels = np.array(X[i][0].split(\" \"),dtype='float32')\n",
        "    pixels=np.reshape(pixels,(48,48,1))\n",
        "    x_train.append(pixels)\n",
        "for i in range(5887):\n",
        "    pixels = np.array(X_test[i][0].split(\" \"),dtype='float32')\n",
        "    pixels=np.reshape(pixels,(48,48,1))\n",
        "    x_test.append(pixels)\n",
        "\n",
        "x_train=np.array(x_train,'float32')/255.0\n",
        "x_test=np.array(x_test,'float32')/255.0"
      ],
      "execution_count": 32,
      "outputs": [
        {
          "output_type": "stream",
          "text": [
            "(35887, 3)\n"
          ],
          "name": "stdout"
        }
      ]
    },
    {
      "cell_type": "markdown",
      "metadata": {
        "id": "S8Lpy1UNYtfU",
        "colab_type": "text"
      },
      "source": [
        "## **Building the Model**\n"
      ]
    },
    {
      "cell_type": "code",
      "metadata": {
        "id": "VpH2LS3tY2Wg",
        "colab_type": "code",
        "colab": {
          "base_uri": "https://localhost:8080/",
          "height": 853
        },
        "outputId": "f66ec668-5ab3-4f6f-afda-add5400dc354"
      },
      "source": [
        "num_features=64\n",
        "\n",
        "\n",
        "model = Sequential()\n",
        "\n",
        "model.add(Conv2D(num_features, kernel_size=(3, 3), activation='relu', input_shape=(48, 48, 1), kernel_regularizer=l2(0.01)))\n",
        "model.add(BatchNormalization())\n",
        "model.add(Conv2D(num_features, kernel_size=(3, 3), activation='relu'))\n",
        "model.add(BatchNormalization())\n",
        "model.add(MaxPooling2D(pool_size=(2, 2), strides=(2, 2)))\n",
        "model.add(Dropout(0.4))\n",
        "\n",
        "model.add(Conv2D(2*num_features, kernel_size=(3, 3), activation='relu'))\n",
        "model.add(BatchNormalization())\n",
        "model.add(Conv2D(2*num_features, kernel_size=(3, 3), activation='relu'))\n",
        "model.add(BatchNormalization())\n",
        "model.add(MaxPooling2D(pool_size=(2, 2), strides=(2, 2)))\n",
        "model.add(Dropout(0.4))\n",
        "\n",
        "model.add(Conv2D(2*2*num_features, kernel_size=(3, 3), activation='relu'))\n",
        "model.add(BatchNormalization())\n",
        "model.add(MaxPooling2D(pool_size=(2, 2), strides=(2, 2)))\n",
        "model.add(Dropout(0.4))\n",
        "model.add(Flatten())\n",
        "\n",
        "model.add(Dense(num_features, activation='relu'))\n",
        "model.add(BatchNormalization())\n",
        "model.add(Dropout(0.3))\n",
        "model.add(Dense(5, activation='softmax'))\n",
        "model.summary()"
      ],
      "execution_count": 38,
      "outputs": [
        {
          "output_type": "stream",
          "text": [
            "Model: \"sequential_11\"\n",
            "_________________________________________________________________\n",
            "Layer (type)                 Output Shape              Param #   \n",
            "=================================================================\n",
            "conv2d_56 (Conv2D)           (None, 46, 46, 64)        640       \n",
            "_________________________________________________________________\n",
            "batch_normalization_37 (Batc (None, 46, 46, 64)        256       \n",
            "_________________________________________________________________\n",
            "conv2d_57 (Conv2D)           (None, 44, 44, 64)        36928     \n",
            "_________________________________________________________________\n",
            "batch_normalization_38 (Batc (None, 44, 44, 64)        256       \n",
            "_________________________________________________________________\n",
            "max_pooling2d_28 (MaxPooling (None, 22, 22, 64)        0         \n",
            "_________________________________________________________________\n",
            "dropout_38 (Dropout)         (None, 22, 22, 64)        0         \n",
            "_________________________________________________________________\n",
            "conv2d_58 (Conv2D)           (None, 20, 20, 128)       73856     \n",
            "_________________________________________________________________\n",
            "batch_normalization_39 (Batc (None, 20, 20, 128)       512       \n",
            "_________________________________________________________________\n",
            "conv2d_59 (Conv2D)           (None, 18, 18, 128)       147584    \n",
            "_________________________________________________________________\n",
            "batch_normalization_40 (Batc (None, 18, 18, 128)       512       \n",
            "_________________________________________________________________\n",
            "max_pooling2d_29 (MaxPooling (None, 9, 9, 128)         0         \n",
            "_________________________________________________________________\n",
            "dropout_39 (Dropout)         (None, 9, 9, 128)         0         \n",
            "_________________________________________________________________\n",
            "conv2d_60 (Conv2D)           (None, 7, 7, 256)         295168    \n",
            "_________________________________________________________________\n",
            "batch_normalization_41 (Batc (None, 7, 7, 256)         1024      \n",
            "_________________________________________________________________\n",
            "max_pooling2d_30 (MaxPooling (None, 3, 3, 256)         0         \n",
            "_________________________________________________________________\n",
            "dropout_40 (Dropout)         (None, 3, 3, 256)         0         \n",
            "_________________________________________________________________\n",
            "flatten_11 (Flatten)         (None, 2304)              0         \n",
            "_________________________________________________________________\n",
            "dense_21 (Dense)             (None, 64)                147520    \n",
            "_________________________________________________________________\n",
            "batch_normalization_42 (Batc (None, 64)                256       \n",
            "_________________________________________________________________\n",
            "dropout_41 (Dropout)         (None, 64)                0         \n",
            "_________________________________________________________________\n",
            "dense_22 (Dense)             (None, 5)                 325       \n",
            "=================================================================\n",
            "Total params: 704,837\n",
            "Trainable params: 703,429\n",
            "Non-trainable params: 1,408\n",
            "_________________________________________________________________\n"
          ],
          "name": "stdout"
        }
      ]
    },
    {
      "cell_type": "markdown",
      "metadata": {
        "id": "9yTp5kx0ZOox",
        "colab_type": "text"
      },
      "source": [
        "### *Compling and Testing*"
      ]
    },
    {
      "cell_type": "code",
      "metadata": {
        "id": "c4fwm-b5ZWP_",
        "colab_type": "code",
        "colab": {
          "base_uri": "https://localhost:8080/",
          "height": 722
        },
        "outputId": "47d0295f-9e8d-4645-e0c9-2174eda5fd11"
      },
      "source": [
        "model.compile(loss='categorical_crossentropy',\n",
        "              optimizer=Adam(lr=0.001, beta_1=0.9, beta_2=0.999, epsilon=1e-7),\n",
        "              metrics=['accuracy'])\n",
        "\n",
        "\n",
        "hist=model.fit(x_train,y_train,shuffle=1,epochs=10,batch_size=128,validation_split=0.2,callbacks=[chkp])"
      ],
      "execution_count": 42,
      "outputs": [
        {
          "output_type": "stream",
          "text": [
            "Train on 24000 samples, validate on 6000 samples\n",
            "Epoch 1/10\n",
            "24000/24000 [==============================] - 38s 2ms/step - loss: 0.4379 - accuracy: 0.8342 - val_loss: 0.9393 - val_accuracy: 0.6855\n",
            "\n",
            "Epoch 00001: val_accuracy did not improve from 0.70017\n",
            "Epoch 2/10\n",
            "24000/24000 [==============================] - 36s 1ms/step - loss: 0.4251 - accuracy: 0.8414 - val_loss: 0.8685 - val_accuracy: 0.6970\n",
            "\n",
            "Epoch 00002: val_accuracy did not improve from 0.70017\n",
            "Epoch 3/10\n",
            "24000/24000 [==============================] - 36s 1ms/step - loss: 0.4259 - accuracy: 0.8386 - val_loss: 0.8619 - val_accuracy: 0.6992\n",
            "\n",
            "Epoch 00003: val_accuracy did not improve from 0.70017\n",
            "Epoch 4/10\n",
            "24000/24000 [==============================] - 36s 1ms/step - loss: 0.4314 - accuracy: 0.8397 - val_loss: 0.8904 - val_accuracy: 0.6993\n",
            "\n",
            "Epoch 00004: val_accuracy did not improve from 0.70017\n",
            "Epoch 5/10\n",
            "24000/24000 [==============================] - 36s 1ms/step - loss: 0.4085 - accuracy: 0.8478 - val_loss: 0.8891 - val_accuracy: 0.6983\n",
            "\n",
            "Epoch 00005: val_accuracy did not improve from 0.70017\n",
            "Epoch 6/10\n",
            "24000/24000 [==============================] - 36s 1ms/step - loss: 0.4110 - accuracy: 0.8462 - val_loss: 0.9079 - val_accuracy: 0.7010\n",
            "\n",
            "Epoch 00006: val_accuracy improved from 0.70017 to 0.70100, saving model to best_model.h5\n",
            "Epoch 7/10\n",
            "24000/24000 [==============================] - 36s 1ms/step - loss: 0.4085 - accuracy: 0.8472 - val_loss: 0.8998 - val_accuracy: 0.7022\n",
            "\n",
            "Epoch 00007: val_accuracy improved from 0.70100 to 0.70217, saving model to best_model.h5\n",
            "Epoch 8/10\n",
            "24000/24000 [==============================] - 36s 1ms/step - loss: 0.3883 - accuracy: 0.8547 - val_loss: 0.9002 - val_accuracy: 0.6997\n",
            "\n",
            "Epoch 00008: val_accuracy did not improve from 0.70217\n",
            "Epoch 9/10\n",
            "24000/24000 [==============================] - 36s 1ms/step - loss: 0.3950 - accuracy: 0.8541 - val_loss: 0.9127 - val_accuracy: 0.6947\n",
            "\n",
            "Epoch 00009: val_accuracy did not improve from 0.70217\n",
            "Epoch 10/10\n",
            "24000/24000 [==============================] - 36s 1ms/step - loss: 0.3877 - accuracy: 0.8561 - val_loss: 0.9415 - val_accuracy: 0.6885\n",
            "\n",
            "Epoch 00010: val_accuracy did not improve from 0.70217\n"
          ],
          "name": "stdout"
        }
      ]
    },
    {
      "cell_type": "markdown",
      "metadata": {
        "id": "3wUSy1Mbf23p",
        "colab_type": "text"
      },
      "source": [
        "## *Saving the weights*"
      ]
    },
    {
      "cell_type": "code",
      "metadata": {
        "id": "RZe9oJJlnj_w",
        "colab_type": "code",
        "colab": {}
      },
      "source": [
        "model.load_weights('best_model.h5')"
      ],
      "execution_count": null,
      "outputs": []
    },
    {
      "cell_type": "markdown",
      "metadata": {
        "id": "9niTSkZNEHsX",
        "colab_type": "text"
      },
      "source": [
        "## Callbacks"
      ]
    },
    {
      "cell_type": "code",
      "metadata": {
        "id": "OY1vc86_s62j",
        "colab_type": "code",
        "colab": {}
      },
      "source": [
        "from keras.callbacks import ModelCheckpoint,EarlyStopping\n",
        "es = EarlyStopping(monitor='val_acc',patience=2)\n",
        "chkp = ModelCheckpoint('best_model.h5', monitor='val_accuracy', verbose=1, save_best_only=True, save_weights_only=False, mode='auto')"
      ],
      "execution_count": 35,
      "outputs": []
    },
    {
      "cell_type": "markdown",
      "metadata": {
        "id": "IeX1eEatk1ks",
        "colab_type": "text"
      },
      "source": [
        "###*Evaluating the model*\n"
      ]
    },
    {
      "cell_type": "code",
      "metadata": {
        "id": "DEtinlyXk5TX",
        "colab_type": "code",
        "colab": {
          "base_uri": "https://localhost:8080/",
          "height": 50
        },
        "outputId": "e21cf192-59e6-4b45-aceb-0f5a07ed4ca7"
      },
      "source": [
        "loss,acc = model.evaluate(x_test,y_test)\n",
        "acc"
      ],
      "execution_count": 46,
      "outputs": [
        {
          "output_type": "stream",
          "text": [
            "5887/5887 [==============================] - 3s 580us/step\n"
          ],
          "name": "stdout"
        },
        {
          "output_type": "execute_result",
          "data": {
            "text/plain": [
              "0.6835399866104126"
            ]
          },
          "metadata": {
            "tags": []
          },
          "execution_count": 46
        }
      ]
    }
  ]
}